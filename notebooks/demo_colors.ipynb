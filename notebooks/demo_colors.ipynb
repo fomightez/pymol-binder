{
 "cells": [
  {
   "cell_type": "markdown",
   "metadata": {},
   "source": [
    "# Demonstrate Color Handling for PyMol via API\n",
    "\n",
    "This notebook will demonstrate dealing with colors via the PyMol API that works via scripting.\n",
    "\n",
    "Return to [the first page](index.ipynb) for the demonstration notebook [index](index.ipynb).\n",
    "\n",
    "----\n"
   ]
  },
  {
   "cell_type": "markdown",
   "metadata": {},
   "source": [
    "## Preparation\n",
    "\n",
    "As see in other notebooks, the initial commands to set things up to send commands to PyMol are fairly standard and so running this code will allow later commands to appear more straightforward by allowing us to skip listing all these again."
   ]
  },
  {
   "cell_type": "code",
   "execution_count": 1,
   "metadata": {},
   "outputs": [],
   "source": [
    "init_block = '''#!/usr/bin/python\n",
    "\n",
    "import sys, os\n",
    "\n",
    "# pymol environment\n",
    "moddir='/opt/pymol-svn/modules'\n",
    "sys.path.insert(0, moddir)\n",
    "os.environ['PYMOL_PATH'] = os.path.join(moddir, 'pymol/pymol_path')\n",
    "\n",
    "import pymol\n",
    "cmd = pymol.cmd\n",
    "'''"
   ]
  },
  {
   "cell_type": "markdown",
   "metadata": {},
   "source": [
    "With a block of code defined that we can use within this running notebook, we can now step through some commands pertinent to colors in PyMol."
   ]
  },
  {
   "cell_type": "markdown",
   "metadata": {},
   "source": [
    "## Defined colors within PyMol"
   ]
  },
  {
   "cell_type": "markdown",
   "metadata": {},
   "source": [
    "A number of colors are already defined and named in PyMol.   \n",
    "Running the code in the next two cells will list those colors. (The `cmd.get_color_indices()` is the key command; the rest is just for arranging a nicer display. The assignment of the bash output to a variable follows from [here](https://nbviewer.jupyter.org/github/fomightez/ptmbr-accompmatz/blob/master/notebooks/Sending%20PatMatch%20output%20directly%20to%20Python.ipynb#Option-1).)"
   ]
  },
  {
   "cell_type": "code",
   "execution_count": 2,
   "metadata": {},
   "outputs": [
    {
     "name": "stdout",
     "output_type": "stream",
     "text": [
      "Writing 'script_txt' (str) to file 'script_cl.py'.\n"
     ]
    }
   ],
   "source": [
    "cmds2run = '''ls = list(cmd.get_color_indices())\n",
    "pymol_colors = [repr(x[0]) for x in ls]\n",
    "ll = '\\\\n'.join(pymol_colors)\n",
    "print(ll)\n",
    "'''\n",
    "script_txt = init_block + cmds2run\n",
    "%store script_txt > script_cl.py"
   ]
  },
  {
   "cell_type": "code",
   "execution_count": 3,
   "metadata": {},
   "outputs": [
    {
     "name": "stdout",
     "output_type": "stream",
     "text": [
      "'white'         'yelloworange'  'lithium'     'technetium'    'gold'         \n",
      "'black'         'tv_orange'     'beryllium'   'ruthenium'     'mercury'      \n",
      "'blue'          'pink'          'boron'       'rhodium'       'thallium'     \n",
      "'green'         'firebrick'     'fluorine'    'palladium'     'lead'         \n",
      "'red'           'chocolate'     'neon'        'silver'        'bismuth'      \n",
      "'cyan'          'brown'         'sodium'      'cadmium'       'polonium'     \n",
      "'yellow'        'wheat'         'magnesium'   'indium'        'astatine'     \n",
      "'dash'          'violet'        'aluminum'    'tin'           'radon'        \n",
      "'magenta'       'lightmagenta'  'silicon'     'antimony'      'francium'     \n",
      "'salmon'        'density'       'phosphorus'  'tellurium'     'radium'       \n",
      "'lime'          'paleyellow'    'chlorine'    'iodine'        'actinium'     \n",
      "'slate'         'aquamarine'    'argon'       'xenon'         'thorium'      \n",
      "'hotpink'       'deepsalmon'    'potassium'   'cesium'        'protactinium' \n",
      "'orange'        'palegreen'     'calcium'     'barium'        'uranium'      \n",
      "'chartreuse'    'deepolive'     'scandium'    'lanthanum'     'neptunium'    \n",
      "'limegreen'     'deeppurple'    'titanium'    'cerium'        'plutonium'    \n",
      "'purpleblue'    'deepteal'      'vanadium'    'praseodymium'  'americium'    \n",
      "'marine'        'lightblue'     'chromium'    'neodymium'     'curium'       \n",
      "'olive'         'lightorange'   'manganese'   'promethium'    'berkelium'    \n",
      "'purple'        'palecyan'      'iron'        'samarium'      'californium'  \n",
      "'teal'          'lightteal'     'cobalt'      'europium'      'einsteinium'  \n",
      "'ruby'          'splitpea'      'nickel'      'gadolinium'    'fermium'      \n",
      "'forest'        'raspberry'     'copper'      'terbium'       'mendelevium'  \n",
      "'deepblue'      'sand'          'zinc'        'dysprosium'    'nobelium'     \n",
      "'grey'          'smudge'        'gallium'     'holmium'       'lawrencium'   \n",
      "'gray'          'violetpurple'  'germanium'   'erbium'        'rutherfordium'\n",
      "'carbon'        'dirtyviolet'   'arsenic'     'thulium'       'dubnium'      \n",
      "'nitrogen'      'deepsalmon'    'selenium'    'ytterbium'     'seaborgium'   \n",
      "'oxygen'        'lightpink'     'bromine'     'lutetium'      'bohrium'      \n",
      "'hydrogen'      'greencyan'     'krypton'     'hafnium'       'hassium'      \n",
      "'brightorange'  'limon'         'rubidium'    'tantalum'      'meitnerium'   \n",
      "'sulfur'        'skyblue'       'strontium'   'tungsten'      'deuterium'    \n",
      "'tv_red'        'bluewhite'     'yttrium'     'rhenium'       'lonepair'     \n",
      "'tv_green'      'warmpink'      'zirconium'   'osmium'        'pseudoatom'   \n",
      "'tv_blue'       'darksalmon'    'niobium'     'iridium'     \n",
      "'tv_yellow'     'helium'        'molybdenum'  'platinum'    \n",
      "\n"
     ]
    }
   ],
   "source": [
    "ll = !pymol -cq script_cl.py\n",
    "import IPython\n",
    "print(IPython.utils.text.columnize(ll.l)) #based on https://github.com/ipython/ipython/issues/8741"
   ]
  },
  {
   "cell_type": "code",
   "execution_count": null,
   "metadata": {},
   "outputs": [],
   "source": []
  },
  {
   "cell_type": "code",
   "execution_count": null,
   "metadata": {},
   "outputs": [],
   "source": []
  },
  {
   "cell_type": "code",
   "execution_count": null,
   "metadata": {},
   "outputs": [],
   "source": []
  },
  {
   "cell_type": "code",
   "execution_count": null,
   "metadata": {},
   "outputs": [],
   "source": []
  },
  {
   "cell_type": "code",
   "execution_count": null,
   "metadata": {},
   "outputs": [],
   "source": []
  },
  {
   "cell_type": "code",
   "execution_count": null,
   "metadata": {},
   "outputs": [],
   "source": []
  },
  {
   "cell_type": "code",
   "execution_count": null,
   "metadata": {},
   "outputs": [],
   "source": []
  },
  {
   "cell_type": "code",
   "execution_count": null,
   "metadata": {},
   "outputs": [],
   "source": []
  },
  {
   "cell_type": "code",
   "execution_count": null,
   "metadata": {},
   "outputs": [],
   "source": []
  },
  {
   "cell_type": "markdown",
   "metadata": {},
   "source": [
    "That will say it rendered and image and we can prove that by displaying the result here by running the next cell.  \n",
    "(Alternatively, the file browser here could be used to view the image."
   ]
  },
  {
   "cell_type": "code",
   "execution_count": null,
   "metadata": {},
   "outputs": [],
   "source": [
    "from IPython.display import Image\n",
    "Image(\"test_a.png\")"
   ]
  },
  {
   "cell_type": "code",
   "execution_count": null,
   "metadata": {},
   "outputs": [],
   "source": []
  }
 ],
 "metadata": {
  "kernelspec": {
   "display_name": "Python 3",
   "language": "python",
   "name": "python3"
  },
  "language_info": {
   "codemirror_mode": {
    "name": "ipython",
    "version": 3
   },
   "file_extension": ".py",
   "mimetype": "text/x-python",
   "name": "python",
   "nbconvert_exporter": "python",
   "pygments_lexer": "ipython3",
   "version": "3.6.7"
  }
 },
 "nbformat": 4,
 "nbformat_minor": 4
}
